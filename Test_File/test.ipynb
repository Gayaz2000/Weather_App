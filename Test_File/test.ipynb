{
 "cells": [
  {
   "cell_type": "code",
   "execution_count": 1,
   "id": "be3d4937",
   "metadata": {},
   "outputs": [],
   "source": [
    "import os\n",
    "from dotenv import load_dotenv\n",
    "load_dotenv()\n",
    "\n",
    "os.environ[\"GROQ_API_KEY\"] = os.getenv(\"GROQ_API_KEY\")\n",
    "os.environ[\"WEATHER_API_KEY\"] = os.getenv(\"WEATHER_API_KEY\")\n",
    "WEATHER_API_KEY = os.getenv(\"WEATHER_API_KEY\")"
   ]
  },
  {
   "cell_type": "code",
   "execution_count": 2,
   "id": "38d600ac",
   "metadata": {},
   "outputs": [],
   "source": [
    "import requests\n",
    "\n",
    "def get_weather_from_weatherapi(city: str) -> str:\n",
    "    \"\"\"A funtion to track weather\"\"\"\n",
    "    try:\n",
    "        url = f\"http://api.weatherapi.com/v1/forecast.json?key={WEATHER_API_KEY}&q={city}&days=3&aqi=no&alerts=no\"\n",
    "        response = requests.get(url)\n",
    "        \n",
    "        # Ensure valid JSON\n",
    "        if response.status_code != 200:\n",
    "            return f\"❗ API request failed with status code {response.status_code}\"\n",
    "        \n",
    "        data = response.json()\n",
    "\n",
    "        if \"error\" in data:\n",
    "            return f\"❗ API Error: {data['error'].get('message', 'Unknown error')}\"\n",
    "\n",
    "        location = data[\"location\"]\n",
    "        current = data[\"current\"]\n",
    "        forecast = data[\"forecast\"][\"forecastday\"]\n",
    "\n",
    "        report = (\n",
    "            f\"📍 {location['name']}, {location['country']}\\n\"\n",
    "            f\"🌡️ Temp: {current['temp_c']}°C (Feels like {current['feelslike_c']}°C)\\n\"\n",
    "            f\"💧 Humidity: {current['humidity']}% | ☁️ Cloud: {current['cloud']}%\\n\"\n",
    "            f\"🌬️ Wind: {current['wind_kph']} kph\\n\"\n",
    "            f\"🌤️ Condition: {current['condition']['text']}\\n\\n\"\n",
    "            f\"🗓️ Forecast:\\n\"\n",
    "        )\n",
    "\n",
    "        for day in forecast:\n",
    "            date = day[\"date\"]\n",
    "            day_data = day[\"day\"]\n",
    "            report += (\n",
    "                f\"{date}: 🌡️ {day_data['avgtemp_c']}°C, 🌧️ {day_data['condition']['text']}, \"\n",
    "                f\"💧 Humidity: {day_data['avghumidity']}%, 🌬️ Wind: {day_data['maxwind_kph']} kph\\n\"\n",
    "            )\n",
    "\n",
    "        return report\n",
    "\n",
    "    except Exception as e:\n",
    "        return f\"❗ Error: {str(e)}\""
   ]
  },
  {
   "cell_type": "code",
   "execution_count": null,
   "id": "90dde40f",
   "metadata": {},
   "outputs": [],
   "source": []
  },
  {
   "cell_type": "code",
   "execution_count": 3,
   "id": "fedd8599",
   "metadata": {},
   "outputs": [],
   "source": [
    "from langgraph.graph import StateGraph, END, START\n",
    "from langchain_groq import ChatGroq\n",
    "\n",
    "llm = ChatGroq(model=\"deepseek-r1-distill-llama-70b\")\n",
    "llm_with_tools = llm.bind_tools([get_weather_from_weatherapi])"
   ]
  },
  {
   "cell_type": "code",
   "execution_count": 4,
   "id": "27d9b617",
   "metadata": {},
   "outputs": [],
   "source": [
    "from typing_extensions import TypedDict, Annotated\n",
    "from langchain_core.messages import AnyMessage\n",
    "from langgraph.graph.message import add_messages\n",
    "\n",
    "class State(TypedDict):\n",
    "    messages : Annotated[list[AnyMessage], add_messages]"
   ]
  },
  {
   "cell_type": "code",
   "execution_count": null,
   "id": "92efbdcb",
   "metadata": {},
   "outputs": [],
   "source": [
    "from langgraph.prebuilt import create_react_agent\n",
    "\n",
    "weather_agent = create_react_agent(\n",
    "        model= llm_with_tools,\n",
    "        tools= [get_weather_from_weatherapi],\n",
    "        prom\n",
    "    )"
   ]
  },
  {
   "cell_type": "code",
   "execution_count": 8,
   "id": "e52917d6",
   "metadata": {},
   "outputs": [],
   "source": [
    "response = weather_agent.invoke({\"messages\":\"Banglore\"})"
   ]
  },
  {
   "cell_type": "code",
   "execution_count": 17,
   "id": "8888da6f",
   "metadata": {},
   "outputs": [
    {
     "name": "stdout",
     "output_type": "stream",
     "text": [
      "Banglore\n",
      "\n",
      "📍 Bangalore, India\n",
      "🌡️ Temp: 26.3°C (Feels like 27.5°C)\n",
      "💧 Humidity: 74% | ☁️ Cloud: 75%\n",
      "🌬️ Wind: 29.5 kph\n",
      "🌤️ Condition: Light rain\n",
      "\n",
      "🗓️ Forecast:\n",
      "2025-06-17: 🌡️ 22.9°C, 🌧️ Patchy rain nearby, 💧 Humidity: 77%, 🌬️ Wind: 32.0 kph\n",
      "2025-06-18: 🌡️ 23.3°C, 🌧️ Partly Cloudy , 💧 Humidity: 72%, 🌬️ Wind: 29.5 kph\n",
      "2025-06-19: 🌡️ 23.5°C, 🌧️ Partly Cloudy , 💧 Humidity: 71%, 🌬️ Wind: 28.8 kph\n",
      "\n",
      "\n",
      "📍 Bangalore, India\n",
      "🌡️ Temp: 26.3°C (Feels like 27.5°C)\n",
      "💧 Humidity: 74% | ☁️ Cloud: 75%\n",
      "🌬️ Wind: 29.5 kph\n",
      "🌤️ Condition: Light rain\n",
      "\n",
      "🗓️ Forecast:\n",
      "2025-06-17: 🌡️ 22.9°C, 🌧️ Patchy rain nearby, 💧 Humidity: 77%, 🌬️ Wind: 32.0 kph\n",
      "2025-06-18: 🌡️ 23.3°C, 🌧️ Partly Cloudy , 💧 Humidity: 72%, 🌬️ Wind: 29.5 kph\n",
      "2025-06-19: 🌡️ 23.5°C, 🌧️ Partly Cloudy , 💧 Humidity: 71%, 🌬️ Wind: 28.8 kph\n",
      "\n",
      "\n"
     ]
    }
   ],
   "source": [
    "for event in response[\"messages\"]:\n",
    "    print(event.content)"
   ]
  },
  {
   "cell_type": "code",
   "execution_count": null,
   "id": "2256b7d5",
   "metadata": {},
   "outputs": [],
   "source": []
  }
 ],
 "metadata": {
  "kernelspec": {
   "display_name": ".venv",
   "language": "python",
   "name": "python3"
  },
  "language_info": {
   "codemirror_mode": {
    "name": "ipython",
    "version": 3
   },
   "file_extension": ".py",
   "mimetype": "text/x-python",
   "name": "python",
   "nbconvert_exporter": "python",
   "pygments_lexer": "ipython3",
   "version": "3.13.3"
  }
 },
 "nbformat": 4,
 "nbformat_minor": 5
}

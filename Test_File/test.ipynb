{
 "cells": [
  {
   "cell_type": "code",
   "execution_count": 1,
   "id": "be3d4937",
   "metadata": {},
   "outputs": [],
   "source": [
    "import os\n",
    "from dotenv import load_dotenv\n",
    "load_dotenv()\n",
    "\n",
    "os.environ[\"GROQ_API_KEY\"] = os.getenv(\"GROQ_API_KEY\")\n",
    "os.environ[\"WEATHER_API_KEY\"] = os.getenv(\"WEATHER_API_KEY\")\n",
    "WEATHER_API_KEY = os.getenv(\"WEATHER_API_KEY\")"
   ]
  },
  {
   "cell_type": "code",
   "execution_count": 3,
   "id": "38d600ac",
   "metadata": {},
   "outputs": [],
   "source": [
    "import requests\n",
    "\n",
    "async def get_weather_from_weatherapi(city: str) -> str:\n",
    "    try:\n",
    "        url = f\"http://api.weatherapi.com/v1/forecast.json?key={WEATHER_API_KEY}&q={city}&days=3&aqi=no&alerts=no\"\n",
    "        response = requests.get(url)\n",
    "        \n",
    "        # Ensure valid JSON\n",
    "        if response.status_code != 200:\n",
    "            return f\"❗ API request failed with status code {response.status_code}\"\n",
    "        \n",
    "        data = response.json()\n",
    "\n",
    "        if \"error\" in data:\n",
    "            return f\"❗ API Error: {data['error'].get('message', 'Unknown error')}\"\n",
    "\n",
    "        location = data[\"location\"]\n",
    "        current = data[\"current\"]\n",
    "        forecast = data[\"forecast\"][\"forecastday\"]\n",
    "\n",
    "        report = (\n",
    "            f\"📍 {location['name']}, {location['country']}\\n\"\n",
    "            f\"🌡️ Temp: {current['temp_c']}°C (Feels like {current['feelslike_c']}°C)\\n\"\n",
    "            f\"💧 Humidity: {current['humidity']}% | ☁️ Cloud: {current['cloud']}%\\n\"\n",
    "            f\"🌬️ Wind: {current['wind_kph']} kph\\n\"\n",
    "            f\"🌤️ Condition: {current['condition']['text']}\\n\\n\"\n",
    "            f\"🗓️ Forecast:\\n\"\n",
    "        )\n",
    "\n",
    "        for day in forecast:\n",
    "            date = day[\"date\"]\n",
    "            day_data = day[\"day\"]\n",
    "            report += (\n",
    "                f\"{date}: 🌡️ {day_data['avgtemp_c']}°C, 🌧️ {day_data['condition']['text']}, \"\n",
    "                f\"💧 Humidity: {day_data['avghumidity']}%, 🌬️ Wind: {day_data['maxwind_kph']} kph\\n\"\n",
    "            )\n",
    "\n",
    "        return report\n",
    "\n",
    "    except Exception as e:\n",
    "        return f\"❗ Error: {str(e)}\""
   ]
  },
  {
   "cell_type": "code",
   "execution_count": 4,
   "id": "6c5abc0a",
   "metadata": {},
   "outputs": [
    {
     "name": "stdout",
     "output_type": "stream",
     "text": [
      "\n",
      "✅ Weather Report:\n",
      "\n",
      "📍 Ongole, India\n",
      "🌡️ Temp: 35.1°C (Feels like 37.9°C)\n",
      "💧 Humidity: 39% | ☁️ Cloud: 32%\n",
      "🌬️ Wind: 26.3 kph\n",
      "🌤️ Condition: Partly Cloudy\n",
      "\n",
      "🗓️ Forecast:\n",
      "2025-06-17: 🌡️ 32.3°C, 🌧️ Partly Cloudy , 💧 Humidity: 49%, 🌬️ Wind: 32.4 kph\n",
      "2025-06-18: 🌡️ 33.6°C, 🌧️ Sunny, 💧 Humidity: 44%, 🌬️ Wind: 32.4 kph\n",
      "2025-06-19: 🌡️ 33.2°C, 🌧️ Patchy rain nearby, 💧 Humidity: 46%, 🌬️ Wind: 34.2 kph\n",
      "\n"
     ]
    }
   ],
   "source": [
    "import nest_asyncio\n",
    "nest_asyncio.apply()\n",
    "\n",
    "if __name__ == \"__main__\":\n",
    "    import asyncio\n",
    "    city = \"Ongole\"\n",
    "    result = asyncio.run(get_weather_from_weatherapi(city))\n",
    "    print(\"\\n✅ Weather Report:\\n\")\n",
    "    print(result)"
   ]
  },
  {
   "cell_type": "code",
   "execution_count": null,
   "id": "fedd8599",
   "metadata": {},
   "outputs": [],
   "source": []
  }
 ],
 "metadata": {
  "kernelspec": {
   "display_name": ".venv",
   "language": "python",
   "name": "python3"
  },
  "language_info": {
   "codemirror_mode": {
    "name": "ipython",
    "version": 3
   },
   "file_extension": ".py",
   "mimetype": "text/x-python",
   "name": "python",
   "nbconvert_exporter": "python",
   "pygments_lexer": "ipython3",
   "version": "3.13.3"
  }
 },
 "nbformat": 4,
 "nbformat_minor": 5
}
